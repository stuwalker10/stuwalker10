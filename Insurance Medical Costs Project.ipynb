{
 "cells": [
  {
   "cell_type": "markdown",
   "id": "916de1d9-cd01-4bf4-8332-cc1122f0b0b3",
   "metadata": {},
   "source": [
    "# Insurance Medical Costs Project"
   ]
  },
  {
   "cell_type": "markdown",
   "id": "000cca06-48f7-4eb5-b613-bdfa1bd2173b",
   "metadata": {},
   "source": [
    "## In this project I will be using my knowledge of Python to analyze a dataset comprising of data from US Medical Insurance Costs.  Hopefully I will be able to gather some insights from the data which I may be able to use in future analysis."
   ]
  },
  {
   "cell_type": "markdown",
   "id": "24181dd4-d7b3-45ff-9a97-856a87a57365",
   "metadata": {},
   "source": [
    "***"
   ]
  },
  {
   "cell_type": "code",
   "execution_count": 58,
   "id": "c0e1ad36-da9c-4dce-b05b-4e25fa9b2692",
   "metadata": {},
   "outputs": [],
   "source": [
    "#This code imports the Python libraries that I will be using during this project.\n",
    "\n",
    "import numpy as np\n",
    "import pandas as pd\n",
    "import matplotlib.pyplot as plt"
   ]
  },
  {
   "cell_type": "markdown",
   "id": "ce8766a1-18ce-43c3-b570-21921e8d5878",
   "metadata": {},
   "source": [
    "## Before I start any project I will always check which Python libraries I need to import so I can complete my work.  On this particular project I will be importing \"Pandas\" for the dataframe, \"Numpy\" for any mathematical methods I may want to use and \"MatPlotLib\" for any visualisations I may want to create to highlight my analysis."
   ]
  },
  {
   "cell_type": "markdown",
   "id": "2d103eaa-ab62-4717-9d50-c54b3b46a0cd",
   "metadata": {},
   "source": [
    "***"
   ]
  },
  {
   "cell_type": "code",
   "execution_count": 57,
   "id": "6ac4848e-78fb-418d-bf10-df7a82b8d76a",
   "metadata": {},
   "outputs": [
    {
     "data": {
      "text/html": [
       "<div>\n",
       "<style scoped>\n",
       "    .dataframe tbody tr th:only-of-type {\n",
       "        vertical-align: middle;\n",
       "    }\n",
       "\n",
       "    .dataframe tbody tr th {\n",
       "        vertical-align: top;\n",
       "    }\n",
       "\n",
       "    .dataframe thead th {\n",
       "        text-align: right;\n",
       "    }\n",
       "</style>\n",
       "<table border=\"1\" class=\"dataframe\">\n",
       "  <thead>\n",
       "    <tr style=\"text-align: right;\">\n",
       "      <th></th>\n",
       "      <th>age</th>\n",
       "      <th>sex</th>\n",
       "      <th>bmi</th>\n",
       "      <th>children</th>\n",
       "      <th>smoker</th>\n",
       "      <th>region</th>\n",
       "      <th>charges</th>\n",
       "    </tr>\n",
       "  </thead>\n",
       "  <tbody>\n",
       "    <tr>\n",
       "      <th>0</th>\n",
       "      <td>19</td>\n",
       "      <td>female</td>\n",
       "      <td>27.900</td>\n",
       "      <td>0</td>\n",
       "      <td>yes</td>\n",
       "      <td>southwest</td>\n",
       "      <td>16884.92400</td>\n",
       "    </tr>\n",
       "    <tr>\n",
       "      <th>1</th>\n",
       "      <td>18</td>\n",
       "      <td>male</td>\n",
       "      <td>33.770</td>\n",
       "      <td>1</td>\n",
       "      <td>no</td>\n",
       "      <td>southeast</td>\n",
       "      <td>1725.55230</td>\n",
       "    </tr>\n",
       "    <tr>\n",
       "      <th>2</th>\n",
       "      <td>28</td>\n",
       "      <td>male</td>\n",
       "      <td>33.000</td>\n",
       "      <td>3</td>\n",
       "      <td>no</td>\n",
       "      <td>southeast</td>\n",
       "      <td>4449.46200</td>\n",
       "    </tr>\n",
       "    <tr>\n",
       "      <th>3</th>\n",
       "      <td>33</td>\n",
       "      <td>male</td>\n",
       "      <td>22.705</td>\n",
       "      <td>0</td>\n",
       "      <td>no</td>\n",
       "      <td>northwest</td>\n",
       "      <td>21984.47061</td>\n",
       "    </tr>\n",
       "    <tr>\n",
       "      <th>4</th>\n",
       "      <td>32</td>\n",
       "      <td>male</td>\n",
       "      <td>28.880</td>\n",
       "      <td>0</td>\n",
       "      <td>no</td>\n",
       "      <td>northwest</td>\n",
       "      <td>3866.85520</td>\n",
       "    </tr>\n",
       "  </tbody>\n",
       "</table>\n",
       "</div>"
      ],
      "text/plain": [
       "   age     sex     bmi  children smoker     region      charges\n",
       "0   19  female  27.900         0    yes  southwest  16884.92400\n",
       "1   18    male  33.770         1     no  southeast   1725.55230\n",
       "2   28    male  33.000         3     no  southeast   4449.46200\n",
       "3   33    male  22.705         0     no  northwest  21984.47061\n",
       "4   32    male  28.880         0     no  northwest   3866.85520"
      ]
     },
     "execution_count": 57,
     "metadata": {},
     "output_type": "execute_result"
    }
   ],
   "source": [
    "#This code imports the insurance.csv and uses the Pandas library to transform the CSV to a dataframe.\n",
    "\n",
    "df = 'insurance.csv'\n",
    "\n",
    "insurance = pd.read_csv(df)\n",
    "insurance.head()"
   ]
  },
  {
   "cell_type": "markdown",
   "id": "0ab2a054-43fc-4ef2-8e80-bcc6de99bc97",
   "metadata": {},
   "source": [
    "## I have used \"Pandas\" to import and read the Insurance CSV and used the .head() method to read the first 5 rows of the dataframe."
   ]
  },
  {
   "cell_type": "markdown",
   "id": "467db914-bc84-4a63-891e-6b1ecf642b2b",
   "metadata": {},
   "source": [
    "***"
   ]
  },
  {
   "cell_type": "code",
   "execution_count": 59,
   "id": "f1148a1b-7fb4-4d55-aa00-a9a8f92dffe6",
   "metadata": {},
   "outputs": [
    {
     "data": {
      "text/html": [
       "<div>\n",
       "<style scoped>\n",
       "    .dataframe tbody tr th:only-of-type {\n",
       "        vertical-align: middle;\n",
       "    }\n",
       "\n",
       "    .dataframe tbody tr th {\n",
       "        vertical-align: top;\n",
       "    }\n",
       "\n",
       "    .dataframe thead th {\n",
       "        text-align: right;\n",
       "    }\n",
       "</style>\n",
       "<table border=\"1\" class=\"dataframe\">\n",
       "  <thead>\n",
       "    <tr style=\"text-align: right;\">\n",
       "      <th></th>\n",
       "      <th>age</th>\n",
       "      <th>bmi</th>\n",
       "      <th>children</th>\n",
       "      <th>charges</th>\n",
       "    </tr>\n",
       "  </thead>\n",
       "  <tbody>\n",
       "    <tr>\n",
       "      <th>count</th>\n",
       "      <td>1338.000000</td>\n",
       "      <td>1338.000000</td>\n",
       "      <td>1338.000000</td>\n",
       "      <td>1338.000000</td>\n",
       "    </tr>\n",
       "    <tr>\n",
       "      <th>mean</th>\n",
       "      <td>39.207025</td>\n",
       "      <td>30.663397</td>\n",
       "      <td>1.094918</td>\n",
       "      <td>13270.422265</td>\n",
       "    </tr>\n",
       "    <tr>\n",
       "      <th>std</th>\n",
       "      <td>14.049960</td>\n",
       "      <td>6.098187</td>\n",
       "      <td>1.205493</td>\n",
       "      <td>12110.011237</td>\n",
       "    </tr>\n",
       "    <tr>\n",
       "      <th>min</th>\n",
       "      <td>18.000000</td>\n",
       "      <td>15.960000</td>\n",
       "      <td>0.000000</td>\n",
       "      <td>1121.873900</td>\n",
       "    </tr>\n",
       "    <tr>\n",
       "      <th>25%</th>\n",
       "      <td>27.000000</td>\n",
       "      <td>26.296250</td>\n",
       "      <td>0.000000</td>\n",
       "      <td>4740.287150</td>\n",
       "    </tr>\n",
       "    <tr>\n",
       "      <th>50%</th>\n",
       "      <td>39.000000</td>\n",
       "      <td>30.400000</td>\n",
       "      <td>1.000000</td>\n",
       "      <td>9382.033000</td>\n",
       "    </tr>\n",
       "    <tr>\n",
       "      <th>75%</th>\n",
       "      <td>51.000000</td>\n",
       "      <td>34.693750</td>\n",
       "      <td>2.000000</td>\n",
       "      <td>16639.912515</td>\n",
       "    </tr>\n",
       "    <tr>\n",
       "      <th>max</th>\n",
       "      <td>64.000000</td>\n",
       "      <td>53.130000</td>\n",
       "      <td>5.000000</td>\n",
       "      <td>63770.428010</td>\n",
       "    </tr>\n",
       "  </tbody>\n",
       "</table>\n",
       "</div>"
      ],
      "text/plain": [
       "               age          bmi     children       charges\n",
       "count  1338.000000  1338.000000  1338.000000   1338.000000\n",
       "mean     39.207025    30.663397     1.094918  13270.422265\n",
       "std      14.049960     6.098187     1.205493  12110.011237\n",
       "min      18.000000    15.960000     0.000000   1121.873900\n",
       "25%      27.000000    26.296250     0.000000   4740.287150\n",
       "50%      39.000000    30.400000     1.000000   9382.033000\n",
       "75%      51.000000    34.693750     2.000000  16639.912515\n",
       "max      64.000000    53.130000     5.000000  63770.428010"
      ]
     },
     "metadata": {},
     "output_type": "display_data"
    }
   ],
   "source": [
    "#This code provides a general description of the data within the dataset.\n",
    "\n",
    "display(insurance.describe())"
   ]
  },
  {
   "cell_type": "markdown",
   "id": "4ee26692-f42a-410b-8d9d-b9bbe29d5fe6",
   "metadata": {},
   "source": [
    "## The first thing I want to have a look at is the ages of the individuals within the dataset.  This includes the average or \"mean\" age of the dataset, the minimum or \"min\" age of the dataset and the maximum or \"max\" age within the dataset."
   ]
  },
  {
   "cell_type": "markdown",
   "id": "c18074e8-5544-4286-8586-20bf13417c0b",
   "metadata": {},
   "source": [
    "***"
   ]
  },
  {
   "cell_type": "code",
   "execution_count": 61,
   "id": "4934a6b2-ba51-4a3e-b58a-b09fe93ff8d9",
   "metadata": {},
   "outputs": [
    {
     "name": "stdout",
     "output_type": "stream",
     "text": [
      "39.20702541106129\n"
     ]
    }
   ],
   "source": [
    "#This code shows the mean age of all records within the dataset.\n",
    "\n",
    "age_mean = insurance[\"age\"].mean()\n",
    "print(age_mean)"
   ]
  },
  {
   "cell_type": "code",
   "execution_count": 203,
   "id": "577f5f41-5dee-4898-a123-9ec61c645184",
   "metadata": {},
   "outputs": [
    {
     "name": "stdout",
     "output_type": "stream",
     "text": [
      "The rounded mean age is 39.21\n"
     ]
    }
   ],
   "source": [
    "#This code takes the mean age outputted above and rounds the age to two decimal points.\n",
    "\n",
    "age_mean_rounded = round(39.20702541106129, 2)\n",
    "print(\"The rounded mean age is \" + str(age_mean_rounded))"
   ]
  },
  {
   "cell_type": "code",
   "execution_count": 205,
   "id": "4acccd6a-2184-441d-b204-165db2e42ff2",
   "metadata": {},
   "outputs": [
    {
     "name": "stdout",
     "output_type": "stream",
     "text": [
      "The minimum age is 18\n"
     ]
    }
   ],
   "source": [
    "#This code shows the minimum age within the dataset.\n",
    "\n",
    "age_min = insurance[\"age\"].min()\n",
    "print(\"The minimum age is \" + str(age_min))"
   ]
  },
  {
   "cell_type": "code",
   "execution_count": 206,
   "id": "3a9a8023-18c6-45fb-b125-b37e68f3e536",
   "metadata": {},
   "outputs": [
    {
     "name": "stdout",
     "output_type": "stream",
     "text": [
      "The maximum age is 64\n"
     ]
    }
   ],
   "source": [
    "#This code shows the maximum age within the dataset.\n",
    "\n",
    "age_max = insurance[\"age\"].max()\n",
    "print(\"The maximum age is \" + str(age_max))"
   ]
  },
  {
   "cell_type": "code",
   "execution_count": 171,
   "id": "85817920-da1f-4222-b9e9-924edcd7ac08",
   "metadata": {},
   "outputs": [
    {
     "data": {
      "image/png": "[encoded data removed]",
      "text/plain": [
       "<Figure size 432x288 with 1 Axes>"
      ]
     },
     "metadata": {
      "needs_background": "light"
     },
     "output_type": "display_data"
    }
   ],
   "source": [
    "#This code creates a basic visualisation showing the minimum, maximum and the mean ages within the dataset.\n",
    "#I created this as I feel that some people prefer to look at data/insights via a visualisation.\n",
    "\n",
    "Ages = ['Min Age', 'Max Age', 'Avg Age']\n",
    "Min_Max_Mean = [18, 64, 39.20]\n",
    "\n",
    "New_Colors = ['blue','purple','teal']\n",
    "plt.bar(Ages, Min_Max_Mean, color=New_Colors)\n",
    "plt.title('Min, Max & Average Ages', fontsize=20)\n",
    "plt.xlabel('Minimum, Maximum and Average Ages', fontsize=14)\n",
    "plt.ylabel('Ages', fontsize=14)\n",
    "plt.grid(True)\n",
    "plt.show()"
   ]
  },
  {
   "cell_type": "markdown",
   "id": "1b9d0500-65b3-4e60-8c15-293d00592c6f",
   "metadata": {},
   "source": [
    "## The next thing I want to look at is the proportion of male and female's within the dataset.  This includes the total amount \"(sum())\" of both sexes and what percentage each sex is represented within the dataframe."
   ]
  },
  {
   "cell_type": "markdown",
   "id": "4783ad7f-6f8c-4dae-a22c-fb703ec21543",
   "metadata": {},
   "source": [
    "***"
   ]
  },
  {
   "cell_type": "code",
   "execution_count": 207,
   "id": "a0231ff3-ece6-43e9-9035-150a0285bfda",
   "metadata": {},
   "outputs": [
    {
     "name": "stdout",
     "output_type": "stream",
     "text": [
      "The total amount of males is 676\n"
     ]
    }
   ],
   "source": [
    "#This code counts the amount of instances \"male\" appears within the dataset.\n",
    "\n",
    "male_total = insurance.sex.value_counts().male\n",
    "print(\"The total amount of males is \" + str(male_total))"
   ]
  },
  {
   "cell_type": "code",
   "execution_count": 208,
   "id": "5f71a167-aa57-46f2-aaeb-a45fe3a72e33",
   "metadata": {},
   "outputs": [
    {
     "name": "stdout",
     "output_type": "stream",
     "text": [
      "The total amount of females is 662\n"
     ]
    }
   ],
   "source": [
    "#This code counts the amount of instances \"female\" appears in the dataset.\n",
    "\n",
    "female_total = insurance.sex.value_counts().female\n",
    "print(\"The total amount of females is \" + str(female_total))"
   ]
  },
  {
   "cell_type": "code",
   "execution_count": 216,
   "id": "3f78c639-f72b-4265-ab13-91358770707d",
   "metadata": {},
   "outputs": [
    {
     "name": "stdout",
     "output_type": "stream",
     "text": [
      "male      676\n",
      "female    662\n",
      "Name: sex, dtype: int64\n"
     ]
    }
   ],
   "source": [
    "#Alternitively the below code can be used to count the the total amount of instances that both \"male\" and \"female\" appear within the dataset.\n",
    "\n",
    "sex_counts = insurance['sex'].value_counts()\n",
    "print(sex_counts)"
   ]
  },
  {
   "cell_type": "code",
   "execution_count": 209,
   "id": "b1a9b233-29a2-4ed0-a222-c5390369b350",
   "metadata": {},
   "outputs": [
    {
     "name": "stdout",
     "output_type": "stream",
     "text": [
      "The total amount of records within the dataset is 1338\n"
     ]
    }
   ],
   "source": [
    "#The below code adds both the amount of \"male\" & \"female\" instances within the dataset to provide the total amount of participants.\n",
    "\n",
    "total_records = male_total + female_total\n",
    "print(\"The total amount of records within the dataset is \" + str(total_records))"
   ]
  },
  {
   "cell_type": "code",
   "execution_count": 176,
   "id": "843ee244-6bf7-4e27-90c5-99b53e18cb5c",
   "metadata": {},
   "outputs": [
    {
     "name": "stdout",
     "output_type": "stream",
     "text": [
      "50.52316890881913%\n"
     ]
    }
   ],
   "source": [
    "#Here I have created a simple function to help me calculate the percentage of \"males\" & \"females\" in comparison to the total number of records.\n",
    "#This is the percentage of \"males\" within the dataset.\n",
    "\n",
    "def percentage(part, whole):\n",
    "  percentage = 100 * float(part)/float(whole)\n",
    "  return str(percentage) + \"%\"\n",
    "\n",
    "print(percentage(676, 1338))"
   ]
  },
  {
   "cell_type": "code",
   "execution_count": 217,
   "id": "696eb6cc-bcb0-4923-8640-4d85faec937e",
   "metadata": {},
   "outputs": [
    {
     "name": "stdout",
     "output_type": "stream",
     "text": [
      "The percentage of males is 50.52%\n"
     ]
    }
   ],
   "source": [
    "#I have taken the percentage from the above function and used the round() method to round down to two decimal places.\n",
    "\n",
    "male_percent = round(50.52316890881913, 2)\n",
    "print(\"The percentage of males is \" + str(male_percent) +\"%\")"
   ]
  },
  {
   "cell_type": "code",
   "execution_count": 180,
   "id": "b80ed8f8-c4a6-41ed-8b9b-9fce5d186122",
   "metadata": {},
   "outputs": [
    {
     "name": "stdout",
     "output_type": "stream",
     "text": [
      "49.47683109118087%\n"
     ]
    }
   ],
   "source": [
    "#I have used the exact same function as above to calculate the \"female\" percentage.  I knew it wouldn't be a big difference due to the total amount of \"males\" & females but it is always nice to see the exact percentage.\n",
    "\n",
    "print(percentage(662, 1338))"
   ]
  },
  {
   "cell_type": "code",
   "execution_count": 218,
   "id": "dd04db65-5d10-4154-9e38-52a25cb054b0",
   "metadata": {},
   "outputs": [
    {
     "name": "stdout",
     "output_type": "stream",
     "text": [
      "The percentage of females is 49.48%\n"
     ]
    }
   ],
   "source": [
    "#I have again taken the percentage from the above function and used the round() method to round down to two decimal places.\n",
    "\n",
    "female_percent = round(49.47683109118087, 2)\n",
    "print(\"The percentage of females is \" + str(female_percent) +\"%\")"
   ]
  },
  {
   "cell_type": "code",
   "execution_count": 348,
   "id": "eec4f346-16f5-49ea-a1b1-8d5ca1ea83eb",
   "metadata": {},
   "outputs": [
    {
     "data": {
      "image/png": "[encoded data removed]",
      "text/plain": [
       "<Figure size 432x288 with 1 Axes>"
      ]
     },
     "metadata": {
      "needs_background": "light"
     },
     "output_type": "display_data"
    }
   ],
   "source": [
    "#This code creates a basic visualisation showing the \"male\", \"female\" amd \"total\" amounts within the dataset.\n",
    "\n",
    "Sex = ['Male', 'Female', 'Total']\n",
    "Male_Female_Total = [676, 662, 1338]\n",
    "\n",
    "New_Colors = ['red','aqua','orange']\n",
    "plt.bar(Sex, Male_Female_Total, color=New_Colors)\n",
    "plt.title('Insurance Cost by Sex Breakdown', fontsize=20)\n",
    "plt.xlabel('Male, Female & Total Participants', fontsize=14)\n",
    "plt.ylabel('Number of Participants', fontsize=14)\n",
    "plt.grid(True)\n",
    "plt.show()"
   ]
  },
  {
   "cell_type": "markdown",
   "id": "653c4c18-1c34-4ee6-8dd7-0eb7ab801eb1",
   "metadata": {},
   "source": [
    "## I am now going to have a look at the BMI data within the dataset and see what insights I can gain from it."
   ]
  },
  {
   "cell_type": "markdown",
   "id": "f0b09606-2e1e-4e7b-8b27-532523655938",
   "metadata": {},
   "source": [
    "***"
   ]
  },
  {
   "cell_type": "code",
   "execution_count": 121,
   "id": "116eeec6-bb4f-419c-8e35-a976b262cf88",
   "metadata": {},
   "outputs": [
    {
     "name": "stdout",
     "output_type": "stream",
     "text": [
      "30.663396860986538\n"
     ]
    }
   ],
   "source": [
    "#This code shows the mean \"bmi\" of all records within the dataset.\n",
    "\n",
    "bmi_mean = insurance[\"bmi\"].mean()\n",
    "print(bmi_mean)"
   ]
  },
  {
   "cell_type": "code",
   "execution_count": 219,
   "id": "a79a63a5-1b0b-4485-a284-534faacafb2c",
   "metadata": {},
   "outputs": [
    {
     "name": "stdout",
     "output_type": "stream",
     "text": [
      "The rounded bmi value is 30.66\n"
     ]
    }
   ],
   "source": [
    "bmi_mean_round = round(30.663396860986538, 2)\n",
    "print(\"The rounded bmi value is \" + str(bmi_mean_round))"
   ]
  },
  {
   "cell_type": "code",
   "execution_count": 220,
   "id": "5650d659-726c-4f6b-a843-2a47f4df4d31",
   "metadata": {},
   "outputs": [
    {
     "name": "stdout",
     "output_type": "stream",
     "text": [
      "The minimum bmi value is 15.96\n"
     ]
    }
   ],
   "source": [
    "#This code shows the minimum \"bmi\" of all records within the dataset.\n",
    "\n",
    "bmi_min = insurance[\"bmi\"].min()\n",
    "print(\"The minimum bmi value is \" + str(bmi_min))"
   ]
  },
  {
   "cell_type": "code",
   "execution_count": 221,
   "id": "a35d9037-2e62-4287-9b04-f5324246844c",
   "metadata": {},
   "outputs": [
    {
     "name": "stdout",
     "output_type": "stream",
     "text": [
      "The maximum bmi value is 53.13\n"
     ]
    }
   ],
   "source": [
    "#This code shows the maximum \"bmi\" of all records within the dataset.\n",
    "\n",
    "bmi_max = insurance[\"bmi\"].max()\n",
    "print(\"The maximum bmi value is \" + str(bmi_max))"
   ]
  },
  {
   "cell_type": "code",
   "execution_count": 139,
   "id": "80682537-d893-44b4-87e7-48f97d6b303c",
   "metadata": {},
   "outputs": [
    {
     "name": "stdout",
     "output_type": "stream",
     "text": [
      "          bmi                   \n",
      "          max       mean     min\n",
      "sex                             \n",
      "female  48.07  30.377749  16.815\n",
      "male    53.13  30.943129  15.960\n"
     ]
    }
   ],
   "source": [
    "#I also wanted to know the difference in \"bmi\" between the male and female records within the dataset and the below code which uses the pivot_table() method shows the minimum, maximum and mean values for males and females respectively.\n",
    "\n",
    "bmi = insurance.pivot_table(index =['sex'], values =['bmi'], \n",
    "                       aggfunc ={'mean', 'min', 'max'})\n",
    "print(bmi)"
   ]
  },
  {
   "cell_type": "code",
   "execution_count": 160,
   "id": "13deef49-afe3-442b-91fb-524ba12e9617",
   "metadata": {},
   "outputs": [
    {
     "data": {
      "image/png": "[encoded data removed]",
      "text/plain": [
       "<Figure size 1440x720 with 1 Axes>"
      ]
     },
     "metadata": {
      "needs_background": "light"
     },
     "output_type": "display_data"
    }
   ],
   "source": [
    "# As per the previous visualisations I decided to create the below bar chart for anyone who may prefer to see the \"bmi\" insights visually.\n",
    "\n",
    "BMI = ['Min From Total', 'Max From Total', 'Mean From Total', 'Male Min', 'Male Max', 'Male Mean', 'Female Min', 'Female Max', 'Female Mean']\n",
    "BMI_Figures = [15.96, 53.13, 30.66, 15.96, 53.13, 30.94, 16.81, 48.07, 30.38]\n",
    "\n",
    "plt.figure(figsize=(20,10))\n",
    "New_Colors = ['blue','purple','teal', 'red','aqua','orange', 'gold','lime','magenta']\n",
    "plt.bar(BMI, BMI_Figures, color=New_Colors)\n",
    "plt.title('BMI Figures', fontsize=30)\n",
    "plt.xlabel('BMI Min, Max & Mean Figures', fontsize=25)\n",
    "plt.ylabel('BMI', fontsize=25)\n",
    "plt.xticks(rotation=90, fontsize=15)\n",
    "plt.yticks(fontsize=15)\n",
    "plt.grid(True)\n",
    "plt.show()"
   ]
  },
  {
   "cell_type": "markdown",
   "id": "2706cf8f-ea60-4878-b559-79793e47dd79",
   "metadata": {},
   "source": [
    "##### Next I want to look at the number of \"children\" represented within the dataset.  I will be looking for the same data as before which will be the minimum, maximum and mean numbers of \"children\".  I will also be looking at how many records have children to those who have none."
   ]
  },
  {
   "cell_type": "markdown",
   "id": "59edc30a-c494-4857-a7a8-73917e7e7d36",
   "metadata": {},
   "source": [
    "***"
   ]
  },
  {
   "cell_type": "code",
   "execution_count": 164,
   "id": "e2f95c50-bca9-4514-894b-143c5066c00a",
   "metadata": {},
   "outputs": [
    {
     "name": "stdout",
     "output_type": "stream",
     "text": [
      "The minimum value for children is 0\n"
     ]
    }
   ],
   "source": [
    "#This code shows the minimum value for children within the the dataset.\n",
    "\n",
    "children_min = insurance[\"children\"].min()\n",
    "print(\"The minimum value for children is \" + str(children_min))"
   ]
  },
  {
   "cell_type": "code",
   "execution_count": 165,
   "id": "fcc57cb5-2ad6-44fc-8a01-1b66083229e5",
   "metadata": {},
   "outputs": [
    {
     "name": "stdout",
     "output_type": "stream",
     "text": [
      "The maximum value for children is 5\n"
     ]
    }
   ],
   "source": [
    "#This code shows the maximum value for children within the the dataset.\n",
    "\n",
    "children_max = insurance[\"children\"].max()\n",
    "print(\"The maximum value for children is \" + str(children_max))"
   ]
  },
  {
   "cell_type": "code",
   "execution_count": 183,
   "id": "7778213a-0270-494f-aef2-9bb9de6cac2b",
   "metadata": {},
   "outputs": [
    {
     "name": "stdout",
     "output_type": "stream",
     "text": [
      "The rounded mean value for children is 1.09\n"
     ]
    }
   ],
   "source": [
    "#This code shows the mean value for children within the the dataset (PLEASE NOTE: I have rounded the mean amount of children below and added that variable to the output in this cell).\n",
    "\n",
    "children_mean = insurance[\"children\"].mean()\n",
    "print(\"The rounded mean value for children is \" + str(children_mean_rounded))"
   ]
  },
  {
   "cell_type": "code",
   "execution_count": 167,
   "id": "246c238c-56a4-4c9e-bf8f-f80ecc4717e9",
   "metadata": {},
   "outputs": [
    {
     "name": "stdout",
     "output_type": "stream",
     "text": [
      "1.09\n"
     ]
    }
   ],
   "source": [
    "#This code takes the mean of children outputted above and rounds it down to two decimal places.\n",
    "\n",
    "children_mean_rounded = round(1.0949177877429, 2)\n",
    "print(children_mean_rounded)"
   ]
  },
  {
   "cell_type": "code",
   "execution_count": 191,
   "id": "9b46c2d6-d330-474e-86ea-c83de05e977e",
   "metadata": {},
   "outputs": [
    {
     "name": "stdout",
     "output_type": "stream",
     "text": [
      "0    574\n",
      "1    324\n",
      "2    240\n",
      "3    157\n",
      "4     25\n",
      "5     18\n",
      "Name: children, dtype: int64\n"
     ]
    }
   ],
   "source": [
    "#I also wanted to know the difference between the amount of participants who have children to those who do not have children.  The below code shows me the amount of records that have 0, 1, 2, 3, 4 or 5 children.\n",
    "\n",
    "children_diff = insurance['children'].value_counts()\n",
    "print(children_diff)"
   ]
  },
  {
   "cell_type": "code",
   "execution_count": 195,
   "id": "27c389cc-1475-4e44-ac3e-dd88cad639cd",
   "metadata": {},
   "outputs": [
    {
     "name": "stdout",
     "output_type": "stream",
     "text": [
      "The total number of records with children within the dataset is 764\n"
     ]
    }
   ],
   "source": [
    "#I will now create the variables for the amount of children to be used later in my analysis\n",
    "\n",
    "no_children = 574\n",
    "one_child = 324\n",
    "two_children = 240\n",
    "three_children = 157\n",
    "four_children = 25\n",
    "five_children = 18\n",
    "total_number_of_children = one_child + two_children + three_children + four_children + five_children\n",
    "print(\"The total number of records with children within the dataset is \" + str(total_number_of_children))"
   ]
  },
  {
   "cell_type": "code",
   "execution_count": 196,
   "id": "405cc2ee-b7b8-4cb0-ba7a-ab1d2b26eb9e",
   "metadata": {},
   "outputs": [
    {
     "name": "stdout",
     "output_type": "stream",
     "text": [
      "42.89985052316891%\n"
     ]
    }
   ],
   "source": [
    "#I have used the function created above to calculate percentages to find out what percentage of records have 0 children.\n",
    "\n",
    "print(percentage(574, 1338))"
   ]
  },
  {
   "cell_type": "code",
   "execution_count": 201,
   "id": "9e1c7238-a4ed-4a28-bba2-12a64510ef7e",
   "metadata": {},
   "outputs": [
    {
     "name": "stdout",
     "output_type": "stream",
     "text": [
      "The percentage of records without children is 42.9%\n"
     ]
    }
   ],
   "source": [
    "#I have taken the percentage of records that do not have children outputted above and rounded it down to two decimal points.\n",
    "\n",
    "zero_children_percentage = round(42.89985052316891, 2)\n",
    "print(\"The percentage of records without children is \" + str(zero_children_percentage) + \"%\")"
   ]
  },
  {
   "cell_type": "code",
   "execution_count": 198,
   "id": "5a324862-808f-456d-873c-0a971abbf1e2",
   "metadata": {},
   "outputs": [
    {
     "name": "stdout",
     "output_type": "stream",
     "text": [
      "57.10014947683109%\n"
     ]
    }
   ],
   "source": [
    "#I have used the function created above to calculate percentages again to find out what percentage of records have children.\n",
    "\n",
    "print(percentage(764, 1338))"
   ]
  },
  {
   "cell_type": "code",
   "execution_count": 202,
   "id": "75ef1874-4a0c-4ba1-a6ba-a93af8156859",
   "metadata": {},
   "outputs": [
    {
     "name": "stdout",
     "output_type": "stream",
     "text": [
      "The percentage of records with children is 57.1%\n"
     ]
    }
   ],
   "source": [
    "#I have taken the percentage of records that do have children outputted above and rounded it down to two decimal points.\n",
    "\n",
    "records_with_children_percentage = round(57.10014947683109, 2)\n",
    "print(\"The percentage of records with children is \" + str(records_with_children_percentage) + \"%\")"
   ]
  },
  {
   "cell_type": "code",
   "execution_count": 225,
   "id": "d8e0707f-09c0-488c-b934-23ed015d7d34",
   "metadata": {},
   "outputs": [
    {
     "data": {
      "image/png": "[encoded data removed]",
      "text/plain": [
       "<Figure size 1440x720 with 1 Axes>"
      ]
     },
     "metadata": {
      "needs_background": "light"
     },
     "output_type": "display_data"
    }
   ],
   "source": [
    "# As per the previous visualisations I decided to create the below bar chart for anyone who may prefer to see the \"Children\" insights visually.\n",
    "\n",
    "Children = ['One Child', 'Two Children', 'Three Children', 'Four Children', 'Five Children', 'Total Without Children', 'Total With Children']\n",
    "Number_of_Children = [324, 240, 157, 25, 18, 574, 764]\n",
    "\n",
    "plt.figure(figsize=(20,10))\n",
    "New_Colors = ['blue','purple','teal', 'red','aqua','orange', 'gold']\n",
    "plt.bar(Children, Number_of_Children, color=New_Colors)\n",
    "plt.title('Records With & Without Children', fontsize=30)\n",
    "plt.xlabel('Values of Children', fontsize=25)\n",
    "plt.ylabel('Records', fontsize=25)\n",
    "plt.xticks(rotation=90, fontsize=15)\n",
    "plt.yticks(fontsize=15)\n",
    "plt.grid(True)\n",
    "plt.show()"
   ]
  },
  {
   "cell_type": "markdown",
   "id": "43f80aac-eefc-4651-a5fe-bb06b84c94eb",
   "metadata": {},
   "source": [
    "##### I now want to look at the \"Smoker\" data within the dataset.  I feel that this is an important piece of data that will determine whether the cost of insurance is higher for smokers or non-smokers."
   ]
  },
  {
   "cell_type": "markdown",
   "id": "7e5813c0-6c14-4e7e-834d-4e9b4917295c",
   "metadata": {},
   "source": [
    "***"
   ]
  },
  {
   "cell_type": "code",
   "execution_count": 234,
   "id": "5419bc9e-c221-42e6-9459-45c57674a447",
   "metadata": {},
   "outputs": [
    {
     "name": "stdout",
     "output_type": "stream",
     "text": [
      "no     1064\n",
      "yes     274\n",
      "Name: smoker, dtype: int64\n"
     ]
    }
   ],
   "source": [
    "#The below code counts how many records are either a \"Smoker\" or a \"Non-Smoker\"\n",
    "\n",
    "smoker_count_status = insurance['smoker'].value_counts()\n",
    "print(smoker_count_status)"
   ]
  },
  {
   "cell_type": "code",
   "execution_count": 229,
   "id": "4188a5f3-7479-400a-bb40-7afe1537013e",
   "metadata": {},
   "outputs": [],
   "source": [
    "#I have taken the figures outputted above and created variables with these figures so I can use them later for further analysis.\n",
    "\n",
    "smoker_count = 274\n",
    "non_smoker_count = 1064"
   ]
  },
  {
   "cell_type": "code",
   "execution_count": 261,
   "id": "bf63c453-37b5-4209-8f8a-2b53fccbdf97",
   "metadata": {},
   "outputs": [
    {
     "name": "stdout",
     "output_type": "stream",
     "text": [
      "159\n",
      "517\n",
      "115\n",
      "547\n"
     ]
    }
   ],
   "source": [
    "#The below code counts the amount of \"males\" & \"females\" who are both \"smokers\" & \"non_smokers\".\n",
    "\n",
    "male_smokers_count = ((insurance['sex'] == 'male') & (insurance['smoker'] == 'yes'))\n",
    "print(male_smokers_count.sum())\n",
    "male_non_smokers_count = ((insurance['sex'] == 'male') & (insurance['smoker'] == 'no'))\n",
    "print(male_non_smokers_count.sum())\n",
    "female_smokers_count = ((insurance['sex'] == 'female') & (insurance['smoker'] == 'yes'))\n",
    "print(female_smokers_count.sum())\n",
    "female_non_smokers_count = ((insurance['sex'] == 'female') & (insurance['smoker'] == 'no'))\n",
    "print(female_non_smokers_count.sum())"
   ]
  },
  {
   "cell_type": "code",
   "execution_count": 262,
   "id": "f9550878-dd57-4c41-a426-c64bad904b1c",
   "metadata": {},
   "outputs": [],
   "source": [
    "#I have taken the figures outputted above and created variables with these figures so I can use them later for further analysis.\n",
    "\n",
    "male_smokers = 159\n",
    "male_non_smokers = 517\n",
    "female_smokers = 115\n",
    "female_non_smokers = 547"
   ]
  },
  {
   "cell_type": "code",
   "execution_count": 347,
   "id": "5447d6b8-8457-49ba-bd96-4b2f6b12e964",
   "metadata": {},
   "outputs": [
    {
     "name": "stdout",
     "output_type": "stream",
     "text": [
      "58.02919708029197%\n"
     ]
    }
   ],
   "source": [
    "#The below function calculates the percentage of male smokers against the total amount of smokers.\n",
    "\n",
    "male_smoker_percent_of_smokers = (percentage(159, 274))\n",
    "print(male_smoker_percent_of_smokers)"
   ]
  },
  {
   "cell_type": "code",
   "execution_count": 264,
   "id": "53592104-c428-486f-8842-6f4b858b441d",
   "metadata": {},
   "outputs": [
    {
     "name": "stdout",
     "output_type": "stream",
     "text": [
      "The percentage of males who smoke from the total amount of smokers is 58.03%\n"
     ]
    }
   ],
   "source": [
    "#The below takes the percentage from male smokers against the total amount of smokers but rounded down to two decimal places.\n",
    "\n",
    "male_smoker_percent_of_smokers_rounded = round(58.02919708029197, 2)\n",
    "print(\"The percentage of males who smoke from the total amount of smokers is \" + str(male_smoker_percent_of_smokers_rounded) + \"%\")"
   ]
  },
  {
   "cell_type": "code",
   "execution_count": 346,
   "id": "1287f4fe-2328-48d6-971c-f009ecbc9833",
   "metadata": {},
   "outputs": [
    {
     "name": "stdout",
     "output_type": "stream",
     "text": [
      "41.97080291970803%\n"
     ]
    }
   ],
   "source": [
    "#The below function calculates the percentage of female smokers against the total amount of smokers.\n",
    "\n",
    "female_smoker_percent_of_smokers = (percentage(115, 274))\n",
    "print(female_smoker_percent_of_smokers)"
   ]
  },
  {
   "cell_type": "code",
   "execution_count": 266,
   "id": "46862168-ca95-43fb-a209-9eceb34ca6eb",
   "metadata": {},
   "outputs": [
    {
     "name": "stdout",
     "output_type": "stream",
     "text": [
      "The percentage of females who smoke from the total amount of smokers is 41.97%\n"
     ]
    }
   ],
   "source": [
    "#The below takes the percentage from female smokers against the total amount of smokers but rounded down to two decimal places.\n",
    "\n",
    "female_smoker_percent_of_smokers_rounded = round(41.97080291970803, 2)\n",
    "print(\"The percentage of females who smoke from the total amount of smokers is \" + str(female_smoker_percent_of_smokers_rounded) + \"%\")"
   ]
  },
  {
   "cell_type": "code",
   "execution_count": 345,
   "id": "8cdd76d3-6b13-4277-b9e9-d99096768b15",
   "metadata": {},
   "outputs": [
    {
     "name": "stdout",
     "output_type": "stream",
     "text": [
      "48.590225563909776%\n"
     ]
    }
   ],
   "source": [
    "#The below function calculates the percentage of male non-smokers against the total amount of non=smokers.\n",
    "\n",
    "male_non_smoker_percent_of_non_smokers = (percentage(517, 1064))\n",
    "print(male_non_smoker_percent_of_non_smokers)"
   ]
  },
  {
   "cell_type": "code",
   "execution_count": 344,
   "id": "80f8d4c7-b6c0-40d2-98ed-c90e6122b626",
   "metadata": {},
   "outputs": [
    {
     "name": "stdout",
     "output_type": "stream",
     "text": [
      "The percentage of males who are a non-smoker from the total amount of non-smokers is 48.59%\n"
     ]
    }
   ],
   "source": [
    "#The below takes the percentage from male non-smokers against the total amount of non-smokers but rounded down to two decimal places.\n",
    "\n",
    "male_non_smoker_percent_of_non_smokers_rounded = round(48.590225563909776, 2)\n",
    "print(\"The percentage of males who are a non-smoker from the total amount of non-smokers is \" + str(male_non_smoker_percent_of_non_smokers_rounded) + \"%\")"
   ]
  },
  {
   "cell_type": "code",
   "execution_count": 342,
   "id": "c4e22589-c173-4ec4-a545-51740767abb9",
   "metadata": {},
   "outputs": [
    {
     "name": "stdout",
     "output_type": "stream",
     "text": [
      "51.409774436090224%\n"
     ]
    }
   ],
   "source": [
    "#The below function calculates the percentage of female non-smokers against the total amount of non=smokers.\n",
    "\n",
    "female_non_smoker_percent_of_non_smokers = (percentage(547, 1064))\n",
    "print(female_non_smoker_percent_of_non_smokers)"
   ]
  },
  {
   "cell_type": "code",
   "execution_count": 343,
   "id": "6b54bf1d-3d0e-4863-8fd8-133ce364c950",
   "metadata": {},
   "outputs": [
    {
     "name": "stdout",
     "output_type": "stream",
     "text": [
      "The percentage of females who are a non-smoker from the total amount of non-smokers is 51.41%\n"
     ]
    }
   ],
   "source": [
    "#The below takes the percentage from female non-smokers against the total amount of non-smokers but rounded down to two decimal places.\n",
    "\n",
    "female_non_smoker_percent_of_non_smokers_rounded = round(51.409774436090224, 2)\n",
    "print(\"The percentage of females who are a non-smoker from the total amount of non-smokers is \" + str(female_non_smoker_percent_of_non_smokers_rounded) + \"%\")"
   ]
  },
  {
   "cell_type": "code",
   "execution_count": 340,
   "id": "d1e76786-765a-4374-9b90-971ac40e6ee9",
   "metadata": {},
   "outputs": [
    {
     "name": "stdout",
     "output_type": "stream",
     "text": [
      "20.47832585949178%\n"
     ]
    }
   ],
   "source": [
    "#The below function calculates the percentage of smokers against the total amount of records in the dataset.\n",
    "\n",
    "total_percentage_of_smokers = (percentage(274, 1338))\n",
    "print(total_percentage_of_smokers)"
   ]
  },
  {
   "cell_type": "code",
   "execution_count": 341,
   "id": "31455dd8-7494-4f29-9ffd-86444787b734",
   "metadata": {},
   "outputs": [
    {
     "name": "stdout",
     "output_type": "stream",
     "text": [
      "The percentage of records who are smokers is 20.48%\n"
     ]
    }
   ],
   "source": [
    "#The below takes the percentage of smokers against the total amount of records in the dataset but rounded down to two decimal places.\n",
    "\n",
    "total_percentage_of_smokers_rounded = round(20.47832585949178, 2)\n",
    "print(\"The percentage of records who are smokers is \" + str(total_percentage_of_smokers_rounded) + \"%\")"
   ]
  },
  {
   "cell_type": "code",
   "execution_count": 337,
   "id": "0c35cc90-da9c-45f1-be4c-2d42f9e51ea2",
   "metadata": {},
   "outputs": [
    {
     "name": "stdout",
     "output_type": "stream",
     "text": [
      "79.52167414050822%\n"
     ]
    }
   ],
   "source": [
    "#The below function calculates the percentage of non-smokers against the total amount of records in the dataset.\n",
    "\n",
    "total_percentage_of_non_smokers = (percentage(1064, 1338))\n",
    "print(total_percentage_of_non_smokers)"
   ]
  },
  {
   "cell_type": "code",
   "execution_count": 339,
   "id": "ec8fb936-9bb8-4f46-b1f4-ffbb0898beb6",
   "metadata": {},
   "outputs": [
    {
     "name": "stdout",
     "output_type": "stream",
     "text": [
      "The percentage of records who are non-smokers is 79.52%\n"
     ]
    }
   ],
   "source": [
    "#The below takes the percentage of non-smokers against the total amount of records in the dataset but rounded down to two decimal places.\n",
    "\n",
    "total_percentage_of_non_smokers_rounded = round(79.52167414050822, 2)\n",
    "print(\"The percentage of records who are non-smokers is \" + str(total_percentage_of_non_smokers_rounded) + \"%\")"
   ]
  },
  {
   "cell_type": "code",
   "execution_count": 278,
   "id": "4c167d2a-48e6-49f3-837b-4b85ae967bf1",
   "metadata": {},
   "outputs": [
    {
     "data": {
      "image/png": "[encoded data removed]",
      "text/plain": [
       "<Figure size 1440x720 with 1 Axes>"
      ]
     },
     "metadata": {
      "needs_background": "light"
     },
     "output_type": "display_data"
    }
   ],
   "source": [
    "# As per the previous visualisations I decided to create the below bar chart for anyone who may prefer to see the \"Smokers\" insights visually.\n",
    "\n",
    "Smokers = ['Male Smoker', 'Female Smoker', 'Male Non-Smoker', 'Female Non-Smoker', 'Total Smokers', 'Total Non-Smokers', 'Total Records']\n",
    "Smoker_Counts = [159, 115, 517, 547, 274, 1064, 1338]\n",
    "\n",
    "plt.figure(figsize=(20,10))\n",
    "New_Colors = ['blue','purple','teal', 'red','aqua','orange', 'gold']\n",
    "plt.bar(Smokers, Smoker_Counts, color=New_Colors)\n",
    "plt.title('Smoker Counts', fontsize=30)\n",
    "plt.xlabel('Smokers, Non-Smokers & Total Records', fontsize=25)\n",
    "plt.ylabel('Records', fontsize=25)\n",
    "plt.xticks(rotation=90, fontsize=15)\n",
    "plt.yticks(fontsize=15)\n",
    "plt.grid(True)\n",
    "plt.show()"
   ]
  },
  {
   "cell_type": "code",
   "execution_count": 295,
   "id": "c60b609e-27f5-4790-aab8-82965c61e5f1",
   "metadata": {},
   "outputs": [
    {
     "data": {
      "image/png": "[encoded data removed]",
      "text/plain": [
       "<Figure size 1440x720 with 1 Axes>"
      ]
     },
     "metadata": {},
     "output_type": "display_data"
    }
   ],
   "source": [
    "#For this visualisation I decided to create an exploded pie chart to highlight the percentage of Smokers & Non-Smokers by Sex.\n",
    "\n",
    "Smoker_Status = [\"Male Smokers\", \"Female Smokers\", \"Male Non-Smokers\", \"Female Non-Smokers\"]\n",
    "Smoker_Counts = [159, 115, 517, 547]\n",
    "explode = (0.1, 0.1, 0.1, 0.1)\n",
    "\n",
    "plt.figure(figsize=(20,10))\n",
    "plt.title('Percentage of Smokers & Non-Smokers by Sex', fontsize=30)\n",
    "plt.pie(Smoker_Counts, labels = Smoker_Status, autopct='%1.1f%%', shadow=True, startangle=90, explode=explode)\n",
    "plt.show()"
   ]
  },
  {
   "cell_type": "markdown",
   "id": "5d96146e-ca74-4c94-a36e-947f46c819b3",
   "metadata": {},
   "source": [
    "## I am now going to have a look at the regions within the dataset and see what insights I can get from them."
   ]
  },
  {
   "cell_type": "markdown",
   "id": "877cc64f-cea6-4997-b903-d476340934a1",
   "metadata": {},
   "source": [
    "***"
   ]
  },
  {
   "cell_type": "code",
   "execution_count": 302,
   "id": "0c61e2be-d4ad-4b78-b803-4788ee15633a",
   "metadata": {},
   "outputs": [
    {
     "name": "stdout",
     "output_type": "stream",
     "text": [
      "southeast    364\n",
      "southwest    325\n",
      "northwest    325\n",
      "northeast    324\n",
      "Name: region, dtype: int64\n"
     ]
    }
   ],
   "source": [
    "#The below code shows me what regions are represented in the dataset and the amount of records associated with each.\n",
    "\n",
    "regions = insurance['region'].value_counts()\n",
    "print(regions)"
   ]
  },
  {
   "cell_type": "code",
   "execution_count": 303,
   "id": "675e29bb-8ac7-4ebd-a90d-81206efb91c7",
   "metadata": {},
   "outputs": [],
   "source": [
    "#I have taken the figures outputted above and created variables with these figures so I can use them later for further analysis.\n",
    "\n",
    "region_southeast = 364\n",
    "region_southwest = 325\n",
    "region_northwest = 325\n",
    "region_northeast = 324"
   ]
  },
  {
   "cell_type": "code",
   "execution_count": 307,
   "id": "2a76386b-fa5e-4a0f-b509-cbf4780bdd8e",
   "metadata": {},
   "outputs": [
    {
     "data": {
      "image/png": "[encoded data removed]",
      "text/plain": [
       "<Figure size 1440x720 with 1 Axes>"
      ]
     },
     "metadata": {
      "needs_background": "light"
     },
     "output_type": "display_data"
    }
   ],
   "source": [
    "# As per the previous visualisations I decided to create the below bar chart for anyone who may prefer to see the amount of records per \"Region\" visually.\n",
    "\n",
    "Regions_Plot = ['South East', 'South West', 'North West', 'North East', 'Total Records']\n",
    "Regions_Count = [364, 325, 325, 324, 1338]\n",
    "\n",
    "plt.figure(figsize=(20,10))\n",
    "New_Colors = ['blue', 'red','aqua','orange', 'crimson']\n",
    "plt.bar(Regions_Plot, Regions_Count, color=New_Colors)\n",
    "plt.title('Region Counts', fontsize=30)\n",
    "plt.xlabel('Regions & Total Records', fontsize=25)\n",
    "plt.ylabel('Records', fontsize=25)\n",
    "plt.xticks(rotation=90, fontsize=15)\n",
    "plt.yticks(fontsize=15)\n",
    "plt.grid(True)\n",
    "plt.show()"
   ]
  },
  {
   "cell_type": "markdown",
   "id": "2e5b748d-edfd-416c-842f-3a658dc96b50",
   "metadata": {},
   "source": [
    "## Finally I am going to have a look at the actual cost of insurance.  Here I will look at the minimum, maximum and the mean as well as see if I can see any other insights from the data."
   ]
  },
  {
   "cell_type": "markdown",
   "id": "87db904b-d7ae-4ddb-84f1-3869ffdb4bb7",
   "metadata": {},
   "source": [
    "***"
   ]
  },
  {
   "cell_type": "code",
   "execution_count": 333,
   "id": "81a44ba8-745a-4d23-8613-5f1f9aa2e007",
   "metadata": {},
   "outputs": [
    {
     "name": "stdout",
     "output_type": "stream",
     "text": [
      "The lowest cost of insurance within the dataset is $1,121.87\n"
     ]
    }
   ],
   "source": [
    "#This code fetches the lowest cost of insurance within the dataset.\n",
    "\n",
    "cost_min = insurance[\"charges\"].min()\n",
    "\n",
    "#This code shows the lowest cost of insurance within the dataset in US dollars rounded down to two decimal places.\n",
    "\n",
    "cost_min_rounded = round(cost_min, 2)\n",
    "print(\"The lowest cost of insurance within the dataset is $\" + (f\"{cost_min_rounded:,}\"))"
   ]
  },
  {
   "cell_type": "code",
   "execution_count": 331,
   "id": "0722751c-e6d8-459f-9a93-8a0e167369d7",
   "metadata": {},
   "outputs": [
    {
     "name": "stdout",
     "output_type": "stream",
     "text": [
      "The highest cost of insurance within the dataset is $63,770.43\n"
     ]
    }
   ],
   "source": [
    "#This code fetches the highest cost of insurance within the dataset.\n",
    "\n",
    "cost_max = insurance[\"charges\"].max()\n",
    "\n",
    "#This code shows the highest cost of insurance within the dataset in US dollars rounded down to two decimal places.\n",
    "\n",
    "cost_max_rounded = round(cost_max, 2)\n",
    "print(\"The highest cost of insurance within the dataset is $\" + (f\"{cost_max_rounded:,}\"))"
   ]
  },
  {
   "cell_type": "code",
   "execution_count": 332,
   "id": "67452178-871a-45dc-8c0e-d0ff49b460db",
   "metadata": {},
   "outputs": [
    {
     "name": "stdout",
     "output_type": "stream",
     "text": [
      "The mean cost of insurance within the dataset is $13,270.42\n"
     ]
    }
   ],
   "source": [
    "#This code calculates the mean cost of insurance within the dataset.\n",
    "\n",
    "cost_mean = insurance[\"charges\"].mean()\n",
    "\n",
    "#This code shows the mean cost of insurance within the dataset in US dollars rounded down to two decimal places.\n",
    "\n",
    "cost_mean_rounded = round(cost_mean, 2)\n",
    "print(\"The mean cost of insurance within the dataset is $\" + (f\"{cost_mean_rounded:,}\"))"
   ]
  }
 ],
 "metadata": {
  "kernelspec": {
   "display_name": "Python 3",
   "language": "python",
   "name": "python3"
  },
  "language_info": {
   "codemirror_mode": {
    "name": "ipython",
    "version": 3
   },
   "file_extension": ".py",
   "mimetype": "text/x-python",
   "name": "python",
   "nbconvert_exporter": "python",
   "pygments_lexer": "ipython3",
   "version": "3.8.8"
  },
  "toc-autonumbering": false
 },
 "nbformat": 4,
 "nbformat_minor": 5
}
